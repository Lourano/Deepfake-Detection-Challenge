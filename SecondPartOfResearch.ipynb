{
 "cells": [
  {
   "cell_type": "code",
   "execution_count": 1,
   "metadata": {},
   "outputs": [],
   "source": [
    "import os\n",
    "\n",
    "import pandas as pd\n",
    "import numpy as np\n",
    "\n",
    "import warnings\n",
    "warnings.filterwarnings(\"ignore\")\n",
    "\n",
    "pd.set_option('display.max_columns', 500)\n",
    "\n",
    "from sklearn.metrics import log_loss\n",
    "from sklearn.metrics import roc_auc_score\n",
    "\n",
    "import matplotlib.pyplot as plt\n",
    "import seaborn as sns\n",
    "import plotly.figure_factory as ff\n",
    "%matplotlib inline"
   ]
  },
  {
   "cell_type": "code",
   "execution_count": 2,
   "metadata": {},
   "outputs": [
    {
     "data": {
      "text/html": [
       "<div>\n",
       "<style scoped>\n",
       "    .dataframe tbody tr th:only-of-type {\n",
       "        vertical-align: middle;\n",
       "    }\n",
       "\n",
       "    .dataframe tbody tr th {\n",
       "        vertical-align: top;\n",
       "    }\n",
       "\n",
       "    .dataframe thead th {\n",
       "        text-align: right;\n",
       "    }\n",
       "</style>\n",
       "<table border=\"1\" class=\"dataframe\">\n",
       "  <thead>\n",
       "    <tr style=\"text-align: right;\">\n",
       "      <th></th>\n",
       "      <th>ResNetPredictions</th>\n",
       "      <th>XCeptionPredictions</th>\n",
       "    </tr>\n",
       "  </thead>\n",
       "  <tbody>\n",
       "    <tr>\n",
       "      <td>0</td>\n",
       "      <td>0.514175</td>\n",
       "      <td>0.953098</td>\n",
       "    </tr>\n",
       "    <tr>\n",
       "      <td>1</td>\n",
       "      <td>0.004443</td>\n",
       "      <td>0.095995</td>\n",
       "    </tr>\n",
       "    <tr>\n",
       "      <td>2</td>\n",
       "      <td>0.725788</td>\n",
       "      <td>0.843252</td>\n",
       "    </tr>\n",
       "    <tr>\n",
       "      <td>3</td>\n",
       "      <td>0.060911</td>\n",
       "      <td>0.041755</td>\n",
       "    </tr>\n",
       "    <tr>\n",
       "      <td>4</td>\n",
       "      <td>0.880215</td>\n",
       "      <td>0.789394</td>\n",
       "    </tr>\n",
       "    <tr>\n",
       "      <td>...</td>\n",
       "      <td>...</td>\n",
       "      <td>...</td>\n",
       "    </tr>\n",
       "    <tr>\n",
       "      <td>395</td>\n",
       "      <td>0.190556</td>\n",
       "      <td>0.080094</td>\n",
       "    </tr>\n",
       "    <tr>\n",
       "      <td>396</td>\n",
       "      <td>0.154894</td>\n",
       "      <td>0.022018</td>\n",
       "    </tr>\n",
       "    <tr>\n",
       "      <td>397</td>\n",
       "      <td>0.161928</td>\n",
       "      <td>0.369976</td>\n",
       "    </tr>\n",
       "    <tr>\n",
       "      <td>398</td>\n",
       "      <td>0.641655</td>\n",
       "      <td>0.852241</td>\n",
       "    </tr>\n",
       "    <tr>\n",
       "      <td>399</td>\n",
       "      <td>0.051432</td>\n",
       "      <td>0.291135</td>\n",
       "    </tr>\n",
       "  </tbody>\n",
       "</table>\n",
       "<p>400 rows × 2 columns</p>\n",
       "</div>"
      ],
      "text/plain": [
       "     ResNetPredictions  XCeptionPredictions\n",
       "0             0.514175             0.953098\n",
       "1             0.004443             0.095995\n",
       "2             0.725788             0.843252\n",
       "3             0.060911             0.041755\n",
       "4             0.880215             0.789394\n",
       "..                 ...                  ...\n",
       "395           0.190556             0.080094\n",
       "396           0.154894             0.022018\n",
       "397           0.161928             0.369976\n",
       "398           0.641655             0.852241\n",
       "399           0.051432             0.291135\n",
       "\n",
       "[400 rows x 2 columns]"
      ]
     },
     "execution_count": 2,
     "metadata": {},
     "output_type": "execute_result"
    }
   ],
   "source": [
    "SubmissionWithCalibration = pd.read_csv('data/SubmissionWithCalibration.csv')\n",
    "\n",
    "RealLabels = SubmissionWithCalibration.rlabel\n",
    "\n",
    "XCeptionPredictions = pd.read_csv('data/submission_xception.csv')\n",
    "\n",
    "ResNetPredictions = pd.read_csv('data/submission_resnext.csv')\n",
    "\n",
    "NNPredictions = pd.DataFrame({\"ResNetPredictions\": ResNetPredictions.label,\n",
    "\n",
    "                              \"XCeptionPredictions\": XCeptionPredictions.label})\n",
    "\n",
    "NNPredictions"
   ]
  },
  {
   "cell_type": "code",
   "execution_count": 3,
   "metadata": {},
   "outputs": [
    {
     "name": "stdout",
     "output_type": "stream",
     "text": [
      "XCeption loss 0.32565033410651995\n",
      "ResNet loss 0.368694766137149\n"
     ]
    }
   ],
   "source": [
    "print(\"XCeption loss\", log_loss(RealLabels, NNPredictions.XCeptionPredictions))\n",
    "\n",
    "print(\"ResNet loss\", log_loss(RealLabels, NNPredictions.ResNetPredictions))"
   ]
  },
  {
   "cell_type": "code",
   "execution_count": 4,
   "metadata": {},
   "outputs": [
    {
     "data": {
      "text/plain": [
       "<matplotlib.legend.Legend at 0x1c223b3690>"
      ]
     },
     "execution_count": 4,
     "metadata": {},
     "output_type": "execute_result"
    },
    {
     "data": {
      "image/png": "[encoded data removed]",
      "text/plain": [
       "<Figure size 432x288 with 1 Axes>"
      ]
     },
     "metadata": {
      "needs_background": "light"
     },
     "output_type": "display_data"
    }
   ],
   "source": [
    "sns.distplot(RealLabels)\n",
    "\n",
    "sns.distplot(NNPredictions.XCeptionPredictions)\n",
    "\n",
    "sns.distplot(NNPredictions.ResNetPredictions)\n",
    "\n",
    "plt.legend(['Real', 'XCeption', 'ResNet'])"
   ]
  },
  {
   "cell_type": "code",
   "execution_count": 5,
   "metadata": {},
   "outputs": [
    {
     "name": "stdout",
     "output_type": "stream",
     "text": [
      "0.245\n",
      "0.32002707839550665\n"
     ]
    }
   ],
   "source": [
    "Alphas = np.linspace(0, 1, 1001)\n",
    "\n",
    "LogLoss = np.array([log_loss(RealLabels, np.dot(NNPredictions,\n",
    "                                                    \n",
    "                   [Alpha, 1 - Alpha])) for Alpha in Alphas])\n",
    "\n",
    "BestAlpha = Alphas[LogLoss.argmin()]\n",
    "\n",
    "BestLogLoss = LogLoss.min()\n",
    "\n",
    "print(BestAlpha)\n",
    "\n",
    "print(BestLogLoss)"
   ]
  },
  {
   "cell_type": "code",
   "execution_count": 6,
   "metadata": {},
   "outputs": [],
   "source": [
    "BestEnsembleByAlphaMethod = BestAlpha * ResNetPredictions.label + (1 - BestAlpha) * NNPredictions.XCeptionPredictions"
   ]
  },
  {
   "cell_type": "code",
   "execution_count": 7,
   "metadata": {},
   "outputs": [
    {
     "data": {
      "text/plain": [
       "<matplotlib.legend.Legend at 0x1c22677110>"
      ]
     },
     "execution_count": 7,
     "metadata": {},
     "output_type": "execute_result"
    },
    {
     "data": {
      "image/png": "[encoded data removed]",
      "text/plain": [
       "<Figure size 432x288 with 1 Axes>"
      ]
     },
     "metadata": {
      "needs_background": "light"
     },
     "output_type": "display_data"
    }
   ],
   "source": [
    "sns.distplot(RealLabels)\n",
    "\n",
    "sns.distplot(BestEnsembleByAlphaMethod)\n",
    "\n",
    "plt.legend(['Real', 'AlphaMethod'])"
   ]
  },
  {
   "cell_type": "code",
   "execution_count": 8,
   "metadata": {},
   "outputs": [
    {
     "name": "stdout",
     "output_type": "stream",
     "text": [
      "0.25451492012635796\n"
     ]
    }
   ],
   "source": [
    "from sklearn.linear_model import LogisticRegression as LR\n",
    "\n",
    "Model = LR(penalty = 'l2', dual = True, tol = 0.0001, C = 1, fit_intercept = True, intercept_scaling = 1.0, \n",
    "        \n",
    "        class_weight = None, random_state = None)\n",
    "\n",
    "\n",
    "Model.fit(np.array(BestEnsembleByAlphaMethod).reshape(-1, 1), RealLabels)\n",
    "\n",
    "CalibratedPrediction = Model.predict_proba(np.array(BestEnsembleByAlphaMethod).reshape(-1, 1))[:, 1]\n",
    "\n",
    "print(log_loss(RealLabels, CalibratedPrediction))"
   ]
  },
  {
   "cell_type": "code",
   "execution_count": 9,
   "metadata": {},
   "outputs": [
    {
     "data": {
      "text/plain": [
       "<matplotlib.axes._subplots.AxesSubplot at 0x1c22843090>"
      ]
     },
     "execution_count": 9,
     "metadata": {},
     "output_type": "execute_result"
    },
    {
     "data": {
      "image/png": "[encoded data removed]",
      "text/plain": [
       "<Figure size 432x288 with 1 Axes>"
      ]
     },
     "metadata": {
      "needs_background": "light"
     },
     "output_type": "display_data"
    }
   ],
   "source": [
    "sns.distplot(RealLabels)\n",
    "\n",
    "sns.distplot(CalibratedPrediction)"
   ]
  },
  {
   "cell_type": "code",
   "execution_count": 10,
   "metadata": {},
   "outputs": [
    {
     "name": "stdout",
     "output_type": "stream",
     "text": [
      "accuracy: 0.9125\n",
      "tuned hpyerparameters: {'C': 1.7012542798525891, 'penalty': 'l1'}\n",
      "log loss: 0.17379827402032924\n"
     ]
    },
    {
     "name": "stderr",
     "output_type": "stream",
     "text": [
      "/opt/anaconda3/lib/python3.7/site-packages/sklearn/model_selection/_search.py:814: DeprecationWarning:\n",
      "\n",
      "The default of the `iid` parameter will change from True to False in version 0.22 and will be removed in 0.24. This will change numeric results when test-set sizes are unequal.\n",
      "\n"
     ]
    }
   ],
   "source": [
    "from sklearn.model_selection import GridSearchCV\n",
    "\n",
    "grid = {\"C\": np.logspace(-3,3,66), \"penalty\": [\"l1\", \"l2\"]}\n",
    "    \n",
    "logreg = LR(random_state = 666)\n",
    "\n",
    "logreg_cv = GridSearchCV(logreg, grid, cv = None)\n",
    "\n",
    "logreg_cv.fit(np.array(BestEnsembleByAlphaMethod).reshape(-1, 1), RealLabels)\n",
    "\n",
    "bests = logreg_cv.predict_proba(np.array(BestEnsembleByAlphaMethod).reshape(-1, 1))[:,1]\n",
    "\n",
    "print(\"accuracy:\",logreg_cv.best_score_)\n",
    "\n",
    "print(\"tuned hyperparameters:\",logreg_cv.best_params_)\n",
    "\n",
    "print(\"log loss:\", log_loss(RealLabels, bests))"
   ]
  },
  {
   "cell_type": "code",
   "execution_count": 11,
   "metadata": {},
   "outputs": [
    {
     "name": "stdout",
     "output_type": "stream",
     "text": [
      "log loss: 0.17380233093861627\n"
     ]
    }
   ],
   "source": [
    "BestModel = LR(penalty = 'l1', C = 1.7, fit_intercept = True,\n",
    "               \n",
    "               intercept_scaling = 1.0, class_weight = None, random_state = None)\n",
    "\n",
    "x = np.array(BestEnsembleByAlphaMethod).reshape(-1, 1)\n",
    "\n",
    "BestModel.fit(x, RealLabels)\n",
    "\n",
    "BestResult = BestModel.predict_proba(x)[:,1]\n",
    "\n",
    "print(\"log loss:\", log_loss(RealLabels, BestResult))"
   ]
  },
  {
   "cell_type": "code",
   "execution_count": 12,
   "metadata": {},
   "outputs": [
    {
     "name": "stdout",
     "output_type": "stream",
     "text": [
      "[[14.89227925]]\n",
      "[-9.39001786]\n"
     ]
    }
   ],
   "source": [
    "print(BestModel.coef_)\n",
    "\n",
    "print(BestModel.intercept_)"
   ]
  },
  {
   "cell_type": "code",
   "execution_count": 13,
   "metadata": {},
   "outputs": [
    {
     "data": {
      "text/plain": [
       "0.5014705883040236"
      ]
     },
     "execution_count": 13,
     "metadata": {},
     "output_type": "execute_result"
    }
   ],
   "source": [
    "BestResult.mean()"
   ]
  }
 ],
 "metadata": {
  "kernelspec": {
   "display_name": "Python 3",
   "language": "python",
   "name": "python3"
  },
  "language_info": {
   "codemirror_mode": {
    "name": "ipython",
    "version": 3
   },
   "file_extension": ".py",
   "mimetype": "text/x-python",
   "name": "python",
   "nbconvert_exporter": "python",
   "pygments_lexer": "ipython3",
   "version": "3.7.4"
  }
 },
 "nbformat": 4,
 "nbformat_minor": 2
}
