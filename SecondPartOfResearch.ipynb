{
 "cells": [
  {
   "cell_type": "code",
   "execution_count": null,
   "metadata": {},
   "outputs": [],
   "source": [
    "import os\n",
    "\n",
    "import pandas as pd\n",
    "import numpy as np\n",
    "\n",
    "import warnings\n",
    "warnings.filterwarnings(\"ignore\")\n",
    "\n",
    "pd.set_option('display.max_columns', 500)\n",
    "\n",
    "from sklearn.metrics import log_loss\n",
    "from sklearn.metrics import roc_auc_score\n",
    "\n",
    "import matplotlib.pyplot as plt\n",
    "import seaborn as sns\n",
    "import plotly.figure_factory as ff\n",
    "%matplotlib inline"
   ]
  },
  {
   "cell_type": "code",
   "execution_count": null,
   "metadata": {},
   "outputs": [],
   "source": [
    "SubmissionWithCalibration = pd.read_csv('data/SubmissionWithCalibration.csv')\n",
    "\n",
    "RealLabels = SubmissionWithCalibration.rlabel\n",
    "\n",
    "XCeptionPredictions = pd.read_csv('data/submission_xception.csv')\n",
    "\n",
    "ResNetPredictions = pd.read_csv('data/submission_resnext.csv')\n",
    "\n",
    "NNPredictions = pd.DataFrame({\"ResNetPredictions\": ResNetPredictions.label,\n",
    "\n",
    "                              \"XCeptionPredictions\": XCeptionPredictions.label})\n",
    "\n",
    "NNPredictions"
   ]
  },
  {
   "cell_type": "code",
   "execution_count": null,
   "metadata": {},
   "outputs": [],
   "source": [
    "print(\"XCeption loss\", log_loss(RealLabels, NNPredictions.XCeptionPredictions))\n",
    "\n",
    "print(\"ResNet loss\", log_loss(RealLabels, NNPredictions.ResNetPredictions))"
   ]
  },
  {
   "cell_type": "code",
   "execution_count": null,
   "metadata": {},
   "outputs": [],
   "source": [
    "sns.distplot(RealLabels)\n",
    "\n",
    "sns.distplot(NNPredictions.XCeptionPredictions)\n",
    "\n",
    "sns.distplot(NNPredictions.ResNetPredictions)\n",
    "\n",
    "plt.legend(['Real', 'XCeption', 'ResNet'])"
   ]
  },
  {
   "cell_type": "code",
   "execution_count": null,
   "metadata": {},
   "outputs": [],
   "source": [
    "Alphas = np.linspace(0, 1, 1001)\n",
    "\n",
    "LogLoss = np.array([log_loss(RealLabels, np.dot(NNPredictions,\n",
    "                                                    \n",
    "                   [Alpha, 1 - Alpha])) for Alpha in Alphas])\n",
    "\n",
    "BestAlpha = Alphas[LogLoss.argmin()]\n",
    "\n",
    "BestLogLoss = LogLoss.min()\n",
    "\n",
    "print(BestAlpha)\n",
    "\n",
    "print(BestLogLoss)"
   ]
  },
  {
   "cell_type": "code",
   "execution_count": null,
   "metadata": {},
   "outputs": [],
   "source": [
    "BestEnsembleByAlphaMethod = BestAlpha * ResNetPredictions.label + (1 - BestAlpha) * NNPredictions.XCeptionPredictions"
   ]
  },
  {
   "cell_type": "code",
   "execution_count": null,
   "metadata": {},
   "outputs": [],
   "source": [
    "sns.distplot(RealLabels)\n",
    "\n",
    "sns.distplot(BestEnsembleByAlphaMethod)\n",
    "\n",
    "plt.legend(['Real', 'AlphaMethod'])"
   ]
  },
  {
   "cell_type": "code",
   "execution_count": null,
   "metadata": {},
   "outputs": [],
   "source": [
    "from sklearn.linear_model import LogisticRegression as LR\n",
    "\n",
    "Model = LR(penalty = 'l2', dual = True, tol = 0.0001, C = 1, fit_intercept = True, intercept_scaling = 1.0, \n",
    "        \n",
    "        class_weight = None, random_state = None)\n",
    "\n",
    "\n",
    "Model.fit(np.array(BestEnsembleByAlphaMethod).reshape(-1, 1), RealLabels)\n",
    "\n",
    "CalibratedPrediction = Model.predict_proba(np.array(BestEnsembleByAlphaMethod).reshape(-1, 1))[:, 1]\n",
    "\n",
    "print(log_loss(RealLabels, CalibratedPrediction))"
   ]
  },
  {
   "cell_type": "code",
   "execution_count": null,
   "metadata": {},
   "outputs": [],
   "source": [
    "sns.distplot(RealLabels)\n",
    "\n",
    "sns.distplot(CalibratedPrediction)"
   ]
  },
  {
   "cell_type": "code",
   "execution_count": null,
   "metadata": {},
   "outputs": [],
   "source": [
    "from sklearn.model_selection import GridSearchCV\n",
    "\n",
    "grid = {\"C\": np.logspace(-3,3,66), \"penalty\": [\"l1\", \"l2\"]}\n",
    "    \n",
    "logreg = LR(random_state = 666)\n",
    "\n",
    "logreg_cv = GridSearchCV(logreg, grid, cv = None)\n",
    "\n",
    "logreg_cv.fit(np.array(BestEnsembleByAlphaMethod).reshape(-1, 1), RealLabels)\n",
    "\n",
    "bests = logreg_cv.predict_proba(np.array(BestEnsembleByAlphaMethod).reshape(-1, 1))[:,1]\n",
    "\n",
    "print(\"accuracy:\",logreg_cv.best_score_)\n",
    "\n",
    "print(\"tuned hpyerparameters:\",logreg_cv.best_params_)\n",
    "\n",
    "print(\"log loss:\", log_loss(RealLabels, bests))"
   ]
  },
  {
   "cell_type": "code",
   "execution_count": null,
   "metadata": {},
   "outputs": [],
   "source": [
    "BestModel = LR(penalty = 'l1', C = 1.7, fit_intercept = True,\n",
    "               \n",
    "               intercept_scaling = 1.0, class_weight = None, random_state = None)\n",
    "\n",
    "x = np.array(BestEnsembleByAlphaMethod).reshape(-1, 1)\n",
    "\n",
    "BestModel.fit(x, RealLabels)\n",
    "\n",
    "BestResult = BestModel.predict_proba(x)[:,1]\n",
    "\n",
    "print(\"log loss:\", log_loss(RealLabels, BestResult))"
   ]
  },
  {
   "cell_type": "code",
   "execution_count": null,
   "metadata": {},
   "outputs": [],
   "source": [
    "print(BestModel.coef_)\n",
    "\n",
    "print(BestModel.intercept_)"
   ]
  },
  {
   "cell_type": "code",
   "execution_count": null,
   "metadata": {},
   "outputs": [],
   "source": [
    "BestResult.mean()"
   ]
  }
 ],
 "metadata": {
  "kernelspec": {
   "display_name": "Python 3",
   "language": "python",
   "name": "python3"
  },
  "language_info": {
   "codemirror_mode": {
    "name": "ipython",
    "version": 3
   },
   "file_extension": ".py",
   "mimetype": "text/x-python",
   "name": "python",
   "nbconvert_exporter": "python",
   "pygments_lexer": "ipython3",
   "version": "3.7.4"
  }
 },
 "nbformat": 4,
 "nbformat_minor": 2
}
