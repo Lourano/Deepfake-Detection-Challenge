{
 "cells": [
  {
   "cell_type": "markdown",
   "metadata": {},
   "source": [
    "## This is the final part of aproximation\n",
    "\n",
    "A week ago, one person was published a notebook where the log loss was 0.38, but the notebook couldn't be comitted and submitted due to the fact that there were no NN weights to detect fake/real faces\n",
    "\n",
    "And I decided to try to find a pattern that would get this from my result.\n",
    "\n",
    "Interpolation of Lagrange, Newton, Splines, Regressions, Maximum Likelihood Method, Statistical Modeling Method, Monte Carlo Method, Latent Dirichlet Variables, EM algorithm - nothing couldn't approximate my values with these other than trees that are fitting by gradient descent\n",
    "\n",
    "When I was submit result by GBT Regressor I get 0.47, read some discussion and I was understand that my notebook must predict 4000 videos, not 400. Ahahahaahahah, it was a big fail.\n",
    "\n",
    "Conclusion: 290 place in Public Leaderboard, this was great experience and good intro into Computer Vision :)"
   ]
  },
  {
   "cell_type": "code",
   "execution_count": 1,
   "metadata": {},
   "outputs": [],
   "source": [
    "import numpy as np\n",
    "import pandas as pd"
   ]
  },
  {
   "cell_type": "code",
   "execution_count": 2,
   "metadata": {},
   "outputs": [],
   "source": [
    "Sub038 = pd.read_csv('data/Sub038.csv')\n",
    "\n",
    "Sub038.sort_values(by = 'filename', inplace = True)\n",
    "\n",
    "Sub038 = Sub038.reset_index(drop = True)"
   ]
  },
  {
   "cell_type": "code",
   "execution_count": 3,
   "metadata": {},
   "outputs": [
    {
     "data": {
      "text/html": [
       "<div>\n",
       "<style scoped>\n",
       "    .dataframe tbody tr th:only-of-type {\n",
       "        vertical-align: middle;\n",
       "    }\n",
       "\n",
       "    .dataframe tbody tr th {\n",
       "        vertical-align: top;\n",
       "    }\n",
       "\n",
       "    .dataframe thead th {\n",
       "        text-align: right;\n",
       "    }\n",
       "</style>\n",
       "<table border=\"1\" class=\"dataframe\">\n",
       "  <thead>\n",
       "    <tr style=\"text-align: right;\">\n",
       "      <th></th>\n",
       "      <th>filename</th>\n",
       "      <th>label</th>\n",
       "      <th>FitIntercept</th>\n",
       "    </tr>\n",
       "  </thead>\n",
       "  <tbody>\n",
       "    <tr>\n",
       "      <td>0</td>\n",
       "      <td>aassnaulhq.mp4</td>\n",
       "      <td>0.975000</td>\n",
       "      <td>1</td>\n",
       "    </tr>\n",
       "    <tr>\n",
       "      <td>1</td>\n",
       "      <td>aayfryxljh.mp4</td>\n",
       "      <td>0.017793</td>\n",
       "      <td>1</td>\n",
       "    </tr>\n",
       "    <tr>\n",
       "      <td>2</td>\n",
       "      <td>acazlolrpz.mp4</td>\n",
       "      <td>0.825523</td>\n",
       "      <td>1</td>\n",
       "    </tr>\n",
       "    <tr>\n",
       "      <td>3</td>\n",
       "      <td>adohdulfwb.mp4</td>\n",
       "      <td>0.021289</td>\n",
       "      <td>1</td>\n",
       "    </tr>\n",
       "    <tr>\n",
       "      <td>4</td>\n",
       "      <td>ahjnxtiamx.mp4</td>\n",
       "      <td>0.840784</td>\n",
       "      <td>1</td>\n",
       "    </tr>\n",
       "    <tr>\n",
       "      <td>...</td>\n",
       "      <td>...</td>\n",
       "      <td>...</td>\n",
       "      <td>...</td>\n",
       "    </tr>\n",
       "    <tr>\n",
       "      <td>395</td>\n",
       "      <td>ztyvglkcsf.mp4</td>\n",
       "      <td>0.038536</td>\n",
       "      <td>1</td>\n",
       "    </tr>\n",
       "    <tr>\n",
       "      <td>396</td>\n",
       "      <td>zuwwbbusgl.mp4</td>\n",
       "      <td>0.070050</td>\n",
       "      <td>1</td>\n",
       "    </tr>\n",
       "    <tr>\n",
       "      <td>397</td>\n",
       "      <td>zxacihctqp.mp4</td>\n",
       "      <td>0.103279</td>\n",
       "      <td>1</td>\n",
       "    </tr>\n",
       "    <tr>\n",
       "      <td>398</td>\n",
       "      <td>zyufpqvpyu.mp4</td>\n",
       "      <td>0.799663</td>\n",
       "      <td>1</td>\n",
       "    </tr>\n",
       "    <tr>\n",
       "      <td>399</td>\n",
       "      <td>zzmgnglanj.mp4</td>\n",
       "      <td>0.022239</td>\n",
       "      <td>1</td>\n",
       "    </tr>\n",
       "  </tbody>\n",
       "</table>\n",
       "<p>400 rows × 3 columns</p>\n",
       "</div>"
      ],
      "text/plain": [
       "           filename     label  FitIntercept\n",
       "0    aassnaulhq.mp4  0.975000             1\n",
       "1    aayfryxljh.mp4  0.017793             1\n",
       "2    acazlolrpz.mp4  0.825523             1\n",
       "3    adohdulfwb.mp4  0.021289             1\n",
       "4    ahjnxtiamx.mp4  0.840784             1\n",
       "..              ...       ...           ...\n",
       "395  ztyvglkcsf.mp4  0.038536             1\n",
       "396  zuwwbbusgl.mp4  0.070050             1\n",
       "397  zxacihctqp.mp4  0.103279             1\n",
       "398  zyufpqvpyu.mp4  0.799663             1\n",
       "399  zzmgnglanj.mp4  0.022239             1\n",
       "\n",
       "[400 rows x 3 columns]"
      ]
     },
     "execution_count": 3,
     "metadata": {},
     "output_type": "execute_result"
    }
   ],
   "source": [
    "SubForReg = pd.read_csv('data/SubForReg.csv')\n",
    "\n",
    "SubForReg['FitIntercept'] = 1\n",
    "\n",
    "SubForReg"
   ]
  },
  {
   "cell_type": "code",
   "execution_count": 37,
   "metadata": {},
   "outputs": [
    {
     "data": {
      "text/html": [
       "<div>\n",
       "<style scoped>\n",
       "    .dataframe tbody tr th:only-of-type {\n",
       "        vertical-align: middle;\n",
       "    }\n",
       "\n",
       "    .dataframe tbody tr th {\n",
       "        vertical-align: top;\n",
       "    }\n",
       "\n",
       "    .dataframe thead th {\n",
       "        text-align: right;\n",
       "    }\n",
       "</style>\n",
       "<table border=\"1\" class=\"dataframe\">\n",
       "  <thead>\n",
       "    <tr style=\"text-align: right;\">\n",
       "      <th></th>\n",
       "      <th>Filename</th>\n",
       "      <th>FitIntercept</th>\n",
       "      <th>X</th>\n",
       "      <th>Y</th>\n",
       "    </tr>\n",
       "  </thead>\n",
       "  <tbody>\n",
       "    <tr>\n",
       "      <td>0</td>\n",
       "      <td>aassnaulhq.mp4</td>\n",
       "      <td>1</td>\n",
       "      <td>0.975000</td>\n",
       "      <td>0.900000</td>\n",
       "    </tr>\n",
       "    <tr>\n",
       "      <td>1</td>\n",
       "      <td>aayfryxljh.mp4</td>\n",
       "      <td>1</td>\n",
       "      <td>0.017793</td>\n",
       "      <td>0.100000</td>\n",
       "    </tr>\n",
       "    <tr>\n",
       "      <td>2</td>\n",
       "      <td>acazlolrpz.mp4</td>\n",
       "      <td>1</td>\n",
       "      <td>0.825523</td>\n",
       "      <td>0.900000</td>\n",
       "    </tr>\n",
       "    <tr>\n",
       "      <td>3</td>\n",
       "      <td>adohdulfwb.mp4</td>\n",
       "      <td>1</td>\n",
       "      <td>0.021289</td>\n",
       "      <td>0.100000</td>\n",
       "    </tr>\n",
       "    <tr>\n",
       "      <td>4</td>\n",
       "      <td>ahjnxtiamx.mp4</td>\n",
       "      <td>1</td>\n",
       "      <td>0.840784</td>\n",
       "      <td>0.900000</td>\n",
       "    </tr>\n",
       "    <tr>\n",
       "      <td>...</td>\n",
       "      <td>...</td>\n",
       "      <td>...</td>\n",
       "      <td>...</td>\n",
       "      <td>...</td>\n",
       "    </tr>\n",
       "    <tr>\n",
       "      <td>395</td>\n",
       "      <td>ztyvglkcsf.mp4</td>\n",
       "      <td>1</td>\n",
       "      <td>0.038536</td>\n",
       "      <td>0.100000</td>\n",
       "    </tr>\n",
       "    <tr>\n",
       "      <td>396</td>\n",
       "      <td>zuwwbbusgl.mp4</td>\n",
       "      <td>1</td>\n",
       "      <td>0.070050</td>\n",
       "      <td>0.100000</td>\n",
       "    </tr>\n",
       "    <tr>\n",
       "      <td>397</td>\n",
       "      <td>zxacihctqp.mp4</td>\n",
       "      <td>1</td>\n",
       "      <td>0.103279</td>\n",
       "      <td>0.230713</td>\n",
       "    </tr>\n",
       "    <tr>\n",
       "      <td>398</td>\n",
       "      <td>zyufpqvpyu.mp4</td>\n",
       "      <td>1</td>\n",
       "      <td>0.799663</td>\n",
       "      <td>0.900000</td>\n",
       "    </tr>\n",
       "    <tr>\n",
       "      <td>399</td>\n",
       "      <td>zzmgnglanj.mp4</td>\n",
       "      <td>1</td>\n",
       "      <td>0.022239</td>\n",
       "      <td>0.100000</td>\n",
       "    </tr>\n",
       "  </tbody>\n",
       "</table>\n",
       "<p>400 rows × 4 columns</p>\n",
       "</div>"
      ],
      "text/plain": [
       "           Filename  FitIntercept         X         Y\n",
       "0    aassnaulhq.mp4             1  0.975000  0.900000\n",
       "1    aayfryxljh.mp4             1  0.017793  0.100000\n",
       "2    acazlolrpz.mp4             1  0.825523  0.900000\n",
       "3    adohdulfwb.mp4             1  0.021289  0.100000\n",
       "4    ahjnxtiamx.mp4             1  0.840784  0.900000\n",
       "..              ...           ...       ...       ...\n",
       "395  ztyvglkcsf.mp4             1  0.038536  0.100000\n",
       "396  zuwwbbusgl.mp4             1  0.070050  0.100000\n",
       "397  zxacihctqp.mp4             1  0.103279  0.230713\n",
       "398  zyufpqvpyu.mp4             1  0.799663  0.900000\n",
       "399  zzmgnglanj.mp4             1  0.022239  0.100000\n",
       "\n",
       "[400 rows x 4 columns]"
      ]
     },
     "execution_count": 37,
     "metadata": {},
     "output_type": "execute_result"
    }
   ],
   "source": [
    "ForExcel = pd.DataFrame({'Filename': SubForReg.filename, 'FitIntercept': SubForReg.FitIntercept,\n",
    "                        \n",
    "                        'X': SubForReg.label, 'Y': Sub038.label})\n",
    "\n",
    "ForExcel"
   ]
  },
  {
   "cell_type": "code",
   "execution_count": 38,
   "metadata": {},
   "outputs": [],
   "source": [
    "XMatrix = ForExcel[['FitIntercept', 'X']]\n",
    "\n",
    "XMatrixTransposed = XMatrix.T"
   ]
  },
  {
   "cell_type": "code",
   "execution_count": 39,
   "metadata": {},
   "outputs": [
    {
     "name": "stdout",
     "output_type": "stream",
     "text": [
      "(400, 2)\n",
      "(2, 400)\n"
     ]
    }
   ],
   "source": [
    "print(XMatrix.shape)\n",
    "\n",
    "print(XMatrixTransposed.shape)"
   ]
  },
  {
   "cell_type": "code",
   "execution_count": 41,
   "metadata": {},
   "outputs": [
    {
     "data": {
      "text/html": [
       "<div>\n",
       "<style scoped>\n",
       "    .dataframe tbody tr th:only-of-type {\n",
       "        vertical-align: middle;\n",
       "    }\n",
       "\n",
       "    .dataframe tbody tr th {\n",
       "        vertical-align: top;\n",
       "    }\n",
       "\n",
       "    .dataframe thead th {\n",
       "        text-align: right;\n",
       "    }\n",
       "</style>\n",
       "<table border=\"1\" class=\"dataframe\">\n",
       "  <thead>\n",
       "    <tr style=\"text-align: right;\">\n",
       "      <th></th>\n",
       "      <th>FitIntercept</th>\n",
       "      <th>X</th>\n",
       "    </tr>\n",
       "  </thead>\n",
       "  <tbody>\n",
       "    <tr>\n",
       "      <td>FitIntercept</td>\n",
       "      <td>400.000000</td>\n",
       "      <td>198.434064</td>\n",
       "    </tr>\n",
       "    <tr>\n",
       "      <td>X</td>\n",
       "      <td>198.434064</td>\n",
       "      <td>147.007224</td>\n",
       "    </tr>\n",
       "  </tbody>\n",
       "</table>\n",
       "</div>"
      ],
      "text/plain": [
       "              FitIntercept           X\n",
       "FitIntercept    400.000000  198.434064\n",
       "X               198.434064  147.007224"
      ]
     },
     "execution_count": 41,
     "metadata": {},
     "output_type": "execute_result"
    }
   ],
   "source": [
    "MultipleXAndXT = XMatrixTransposed.dot(XMatrix)\n",
    "\n",
    "MultipleXAndXT"
   ]
  },
  {
   "cell_type": "code",
   "execution_count": 42,
   "metadata": {},
   "outputs": [
    {
     "data": {
      "text/plain": [
       "array([[ 0.00756723, -0.01021444],\n",
       "       [-0.01021444,  0.0205901 ]])"
      ]
     },
     "execution_count": 42,
     "metadata": {},
     "output_type": "execute_result"
    }
   ],
   "source": [
    "InverseOfMultipleXAndXT = np.linalg.inv(MultipleXAndXT)\n",
    "\n",
    "InverseOfMultipleXAndXT"
   ]
  },
  {
   "cell_type": "code",
   "execution_count": 43,
   "metadata": {},
   "outputs": [],
   "source": [
    "InverseMatrixAndXMatrixTransposed = np.dot(InverseOfMultipleXAndXT, XMatrixTransposed)"
   ]
  },
  {
   "cell_type": "code",
   "execution_count": 44,
   "metadata": {},
   "outputs": [
    {
     "data": {
      "text/plain": [
       "(2, 400)"
      ]
     },
     "execution_count": 44,
     "metadata": {},
     "output_type": "execute_result"
    }
   ],
   "source": [
    "InverseMatrixAndXMatrixTransposed.shape"
   ]
  },
  {
   "cell_type": "code",
   "execution_count": 45,
   "metadata": {},
   "outputs": [],
   "source": [
    "Coef = np.dot(InverseMatrixAndXMatrixTransposed, Sub038.label)"
   ]
  },
  {
   "cell_type": "code",
   "execution_count": 46,
   "metadata": {},
   "outputs": [
    {
     "data": {
      "text/plain": [
       "array([0.04232102, 0.94819576])"
      ]
     },
     "execution_count": 46,
     "metadata": {},
     "output_type": "execute_result"
    }
   ],
   "source": [
    "Coef"
   ]
  },
  {
   "cell_type": "code",
   "execution_count": 47,
   "metadata": {},
   "outputs": [
    {
     "data": {
      "text/plain": [
       "array([[1.       , 0.8861486],\n",
       "       [0.8861486, 1.       ]])"
      ]
     },
     "execution_count": 47,
     "metadata": {},
     "output_type": "execute_result"
    }
   ],
   "source": [
    "New = SubForReg.label.apply(lambda x: x * 0.94819576 + 0.04232102)\n",
    "\n",
    "np.corrcoef(New, Sub038.label)"
   ]
  },
  {
   "cell_type": "code",
   "execution_count": 48,
   "metadata": {},
   "outputs": [
    {
     "data": {
      "text/html": [
       "<div>\n",
       "<style scoped>\n",
       "    .dataframe tbody tr th:only-of-type {\n",
       "        vertical-align: middle;\n",
       "    }\n",
       "\n",
       "    .dataframe tbody tr th {\n",
       "        vertical-align: top;\n",
       "    }\n",
       "\n",
       "    .dataframe thead th {\n",
       "        text-align: right;\n",
       "    }\n",
       "</style>\n",
       "<table border=\"1\" class=\"dataframe\">\n",
       "  <thead>\n",
       "    <tr style=\"text-align: right;\">\n",
       "      <th></th>\n",
       "      <th>Filename</th>\n",
       "      <th>FitIntercept</th>\n",
       "      <th>X</th>\n",
       "      <th>Y</th>\n",
       "    </tr>\n",
       "  </thead>\n",
       "  <tbody>\n",
       "    <tr>\n",
       "      <td>0</td>\n",
       "      <td>aassnaulhq.mp4</td>\n",
       "      <td>1</td>\n",
       "      <td>0.975000</td>\n",
       "      <td>0.900000</td>\n",
       "    </tr>\n",
       "    <tr>\n",
       "      <td>1</td>\n",
       "      <td>aayfryxljh.mp4</td>\n",
       "      <td>1</td>\n",
       "      <td>0.017793</td>\n",
       "      <td>0.100000</td>\n",
       "    </tr>\n",
       "    <tr>\n",
       "      <td>2</td>\n",
       "      <td>acazlolrpz.mp4</td>\n",
       "      <td>1</td>\n",
       "      <td>0.825523</td>\n",
       "      <td>0.900000</td>\n",
       "    </tr>\n",
       "    <tr>\n",
       "      <td>3</td>\n",
       "      <td>adohdulfwb.mp4</td>\n",
       "      <td>1</td>\n",
       "      <td>0.021289</td>\n",
       "      <td>0.100000</td>\n",
       "    </tr>\n",
       "    <tr>\n",
       "      <td>4</td>\n",
       "      <td>ahjnxtiamx.mp4</td>\n",
       "      <td>1</td>\n",
       "      <td>0.840784</td>\n",
       "      <td>0.900000</td>\n",
       "    </tr>\n",
       "    <tr>\n",
       "      <td>...</td>\n",
       "      <td>...</td>\n",
       "      <td>...</td>\n",
       "      <td>...</td>\n",
       "      <td>...</td>\n",
       "    </tr>\n",
       "    <tr>\n",
       "      <td>395</td>\n",
       "      <td>ztyvglkcsf.mp4</td>\n",
       "      <td>1</td>\n",
       "      <td>0.038536</td>\n",
       "      <td>0.100000</td>\n",
       "    </tr>\n",
       "    <tr>\n",
       "      <td>396</td>\n",
       "      <td>zuwwbbusgl.mp4</td>\n",
       "      <td>1</td>\n",
       "      <td>0.070050</td>\n",
       "      <td>0.100000</td>\n",
       "    </tr>\n",
       "    <tr>\n",
       "      <td>397</td>\n",
       "      <td>zxacihctqp.mp4</td>\n",
       "      <td>1</td>\n",
       "      <td>0.103279</td>\n",
       "      <td>0.230713</td>\n",
       "    </tr>\n",
       "    <tr>\n",
       "      <td>398</td>\n",
       "      <td>zyufpqvpyu.mp4</td>\n",
       "      <td>1</td>\n",
       "      <td>0.799663</td>\n",
       "      <td>0.900000</td>\n",
       "    </tr>\n",
       "    <tr>\n",
       "      <td>399</td>\n",
       "      <td>zzmgnglanj.mp4</td>\n",
       "      <td>1</td>\n",
       "      <td>0.022239</td>\n",
       "      <td>0.100000</td>\n",
       "    </tr>\n",
       "  </tbody>\n",
       "</table>\n",
       "<p>400 rows × 4 columns</p>\n",
       "</div>"
      ],
      "text/plain": [
       "           Filename  FitIntercept         X         Y\n",
       "0    aassnaulhq.mp4             1  0.975000  0.900000\n",
       "1    aayfryxljh.mp4             1  0.017793  0.100000\n",
       "2    acazlolrpz.mp4             1  0.825523  0.900000\n",
       "3    adohdulfwb.mp4             1  0.021289  0.100000\n",
       "4    ahjnxtiamx.mp4             1  0.840784  0.900000\n",
       "..              ...           ...       ...       ...\n",
       "395  ztyvglkcsf.mp4             1  0.038536  0.100000\n",
       "396  zuwwbbusgl.mp4             1  0.070050  0.100000\n",
       "397  zxacihctqp.mp4             1  0.103279  0.230713\n",
       "398  zyufpqvpyu.mp4             1  0.799663  0.900000\n",
       "399  zzmgnglanj.mp4             1  0.022239  0.100000\n",
       "\n",
       "[400 rows x 4 columns]"
      ]
     },
     "execution_count": 48,
     "metadata": {},
     "output_type": "execute_result"
    }
   ],
   "source": [
    "ForExcel"
   ]
  },
  {
   "cell_type": "code",
   "execution_count": 172,
   "metadata": {},
   "outputs": [
    {
     "name": "stdout",
     "output_type": "stream",
     "text": [
      "[14:45:13] WARNING: src/objective/regression_obj.cu:152: reg:linear is now deprecated in favor of reg:squarederror.\n"
     ]
    },
    {
     "data": {
      "text/plain": [
       "array([[1.        , 0.99612194],\n",
       "       [0.99612194, 1.        ]])"
      ]
     },
     "execution_count": 172,
     "metadata": {},
     "output_type": "execute_result"
    }
   ],
   "source": [
    "from xgboost import XGBRegressor\n",
    "\n",
    "Model = XGBRegressor(n_estimators = 1000)\n",
    "\n",
    "x = np.array(ForExcel.X).reshape(-1, 1)\n",
    "\n",
    "Model.fit(x, ForExcel.Y)\n",
    "\n",
    "Preds = Model.predict(x)\n",
    "\n",
    "np.corrcoef(Preds, ForExcel.Y)"
   ]
  },
  {
   "cell_type": "code",
   "execution_count": 182,
   "metadata": {},
   "outputs": [
    {
     "data": {
      "text/plain": [
       "array([[1.        , 0.99708157],\n",
       "       [0.99708157, 1.        ]])"
      ]
     },
     "execution_count": 182,
     "metadata": {},
     "output_type": "execute_result"
    }
   ],
   "source": [
    "from sklearn.ensemble import GradientBoostingRegressor\n",
    "\n",
    "Model2 = GradientBoostingRegressor(n_estimators = 1000)\n",
    "\n",
    "Model2.fit(x, ForExcel.Y)\n",
    "\n",
    "Preds2 = Model2.predict(x)\n",
    "\n",
    "np.corrcoef(Preds2, ForExcel.Y)"
   ]
  },
  {
   "cell_type": "code",
   "execution_count": 199,
   "metadata": {},
   "outputs": [],
   "source": [
    "import pickle\n",
    "\n",
    "pickle.dump(Model, open(\"weights.dat\", \"wb\"))"
   ]
  },
  {
   "cell_type": "code",
   "execution_count": 200,
   "metadata": {},
   "outputs": [
    {
     "name": "stdout",
     "output_type": "stream",
     "text": [
      "[10:55:43] WARNING: src/objective/regression_obj.cu:152: reg:linear is now deprecated in favor of reg:squarederror.\n"
     ]
    }
   ],
   "source": [
    "loaded_model = pickle.load(open(\"weights.dat\", \"rb\"))\n",
    "\n",
    "y_pred = loaded_model.predict(x)"
   ]
  },
  {
   "cell_type": "code",
   "execution_count": 201,
   "metadata": {},
   "outputs": [
    {
     "data": {
      "text/plain": [
       "array([[1.        , 0.99612194],\n",
       "       [0.99612194, 1.        ]])"
      ]
     },
     "execution_count": 201,
     "metadata": {},
     "output_type": "execute_result"
    }
   ],
   "source": [
    "np.corrcoef(y_pred, ForExcel.Y)"
   ]
  },
  {
   "cell_type": "code",
   "execution_count": 205,
   "metadata": {},
   "outputs": [
    {
     "name": "stdout",
     "output_type": "stream",
     "text": [
      "18     0.8849223892444111      0.15028826892375946\n",
      "39     0.10245259724566796      0.3538503348827362\n",
      "41     0.8866669234084573      0.17580270767211914\n",
      "74     0.8866669234084573      0.9\n",
      "93     0.12361052117213085      0.3626951575279236\n",
      "110     0.10245259724566796      0.3734246790409088\n",
      "131     0.8867115010891271      0.9\n",
      "133     0.1050473810030351      0.9\n",
      "135     0.887221431076303      0.9\n",
      "142     0.3463096192328899      0.9\n",
      "163     0.17078637853053988      0.9\n",
      "195     0.32847626501174576      0.5631140470504761\n",
      "218     0.13736151482753348      0.9\n",
      "248     0.8865929326835311      0.9\n",
      "252     0.8880896776880312      0.9\n",
      "277     0.8880896776880312      0.9\n",
      "300     0.8880896776880312      0.9\n",
      "304     0.11674673866362922      0.9\n",
      "383     0.16298526266069258      0.8452033996582031\n"
     ]
    }
   ],
   "source": [
    "list4 = [18, 39, 41, 74, 93, 110, 131, 133, 135, 142, 163, 195, 218, 248, 252, 277, 300, 304, 383]\n",
    "\n",
    "for i in list4:\n",
    "\n",
    "    print(i, \"   \", s.label[i], \"    \",ForExcel.Y[i])"
   ]
  }
 ],
 "metadata": {
  "kernelspec": {
   "display_name": "Python 3",
   "language": "python",
   "name": "python3"
  },
  "language_info": {
   "codemirror_mode": {
    "name": "ipython",
    "version": 3
   },
   "file_extension": ".py",
   "mimetype": "text/x-python",
   "name": "python",
   "nbconvert_exporter": "python",
   "pygments_lexer": "ipython3",
   "version": "3.7.4"
  }
 },
 "nbformat": 4,
 "nbformat_minor": 2
}
